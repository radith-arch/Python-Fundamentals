{
  "nbformat": 4,
  "nbformat_minor": 0,
  "metadata": {
    "colab": {
      "name": "Dictionaries and Function Python.ipynb",
      "provenance": [],
      "collapsed_sections": []
    },
    "kernelspec": {
      "name": "python3",
      "display_name": "Python 3"
    }
  },
  "cells": [
    {
      "cell_type": "code",
      "metadata": {
        "id": "hqKZpnPv48ee",
        "outputId": "3d9ab13f-3526-4a36-e21b-8a5dfc0087ea",
        "colab": {
          "base_uri": "https://localhost:8080/",
          "height": 51
        }
      },
      "source": [
        "#nomor 1\n",
        "from statistics import mean\n",
        "\n",
        "array_of_dictionaries = [{\n",
        "    \"name\": \"Budi\",\n",
        "    \"age\": 10,\n",
        "    \"test_scores\": [100.0, 98.0, 89.0]\n",
        "},\n",
        "{\n",
        "    \"name\": \"Charlie\",\n",
        "    \"age\": 12,\n",
        "    \"test_scores\": [90.0, 100.0]\n",
        "}]\n",
        "\n",
        "def get_student_average(dictionary_list):\n",
        "  name=\"\"\n",
        "  age=\"\"\n",
        "  avg=0\n",
        "  for element in array_of_dictionaries:\n",
        "    for attribute in element:\n",
        "      if attribute == 'name':\n",
        "        name = element[attribute]\n",
        "      if attribute == 'age':\n",
        "        age=element[attribute]\n",
        "      if attribute == 'test_scores':\n",
        "        avg = round(mean(element[attribute]),2)\n",
        "\n",
        "    print(\"Pelajar \", name, \"dengan umur \", age, \" mendapatkan nilai rata-rata \", avg)\n",
        "  \n",
        "  return\n",
        "\n",
        "get_student_average(array_of_dictionaries)"
      ],
      "execution_count": 1,
      "outputs": [
        {
          "output_type": "stream",
          "text": [
            "Pelajar  Budi dengan umur  10  mendapatkan nilai rata-rata  95.67\n",
            "Pelajar  Charlie dengan umur  12  mendapatkan nilai rata-rata  95.0\n"
          ],
          "name": "stdout"
        }
      ]
    },
    {
      "cell_type": "code",
      "metadata": {
        "id": "zuUBiATt42wU",
        "outputId": "dbe21ed3-716d-4235-8b4e-908aae0d3890",
        "colab": {
          "base_uri": "https://localhost:8080/",
          "height": 51
        }
      },
      "source": [
        "#nomor 2 \n",
        "def get_student_min_score(dictionary_list):\n",
        "  name=\"\"\n",
        "  age=\"\"\n",
        "  for element in array_of_dictionaries:\n",
        "    for attribute in element:\n",
        "      if attribute == 'name':\n",
        "        name = element[attribute]\n",
        "      if attribute == 'age':\n",
        "        age=element[attribute]\n",
        "      if attribute == 'test_scores':\n",
        "        min_score = min(element[attribute])\n",
        "\n",
        "    print(\"Pelajar \", name, \"dengan umur \", age, \" mendapatkan nilai terkecil \", min_score)\n",
        "  \n",
        "  return\n",
        "\n",
        "get_student_min_score(array_of_dictionaries)"
      ],
      "execution_count": 2,
      "outputs": [
        {
          "output_type": "stream",
          "text": [
            "Pelajar  Budi dengan umur  10  mendapatkan nilai terkecil  89.0\n",
            "Pelajar  Charlie dengan umur  12  mendapatkan nilai terkecil  90.0\n"
          ],
          "name": "stdout"
        }
      ]
    },
    {
      "cell_type": "code",
      "metadata": {
        "id": "iWTjbhC25EG0",
        "outputId": "5df74e18-fee1-4511-a279-07bfbacfc292",
        "colab": {
          "base_uri": "https://localhost:8080/",
          "height": 51
        }
      },
      "source": [
        "#nomor 3\n",
        "def get_student_max_score(dictionary_list):\n",
        "  name=[]\n",
        "  age=[]\n",
        "  max_score=[]\n",
        "  for element in array_of_dictionaries:\n",
        "    for attribute in element:\n",
        "      if attribute == 'name':\n",
        "        name = element[attribute]\n",
        "      if attribute == 'age':\n",
        "        age=element[attribute]\n",
        "      if attribute == 'test_scores':\n",
        "        max_score = max(element[attribute])\n",
        "\n",
        "    print(\"Pelajar \", name, \"dengan umur \", age, \" mendapatkan nilai terbesar \", max_score)\n",
        "  \n",
        "  return\n",
        "\n",
        "get_student_max_score(array_of_dictionaries)"
      ],
      "execution_count": 3,
      "outputs": [
        {
          "output_type": "stream",
          "text": [
            "Pelajar  Budi dengan umur  10  mendapatkan nilai terbesar  100.0\n",
            "Pelajar  Charlie dengan umur  12  mendapatkan nilai terbesar  100.0\n"
          ],
          "name": "stdout"
        }
      ]
    },
    {
      "cell_type": "code",
      "metadata": {
        "id": "B_hSBbPI5GH1",
        "outputId": "532def47-faab-47ed-8d06-000b43241939",
        "colab": {
          "base_uri": "https://localhost:8080/",
          "height": 34
        }
      },
      "source": [
        "#nomor 4\n",
        "name, age, score = [], [], []\n",
        "def get_max_score_by_student(dictionary_sample, student_name):\n",
        "  for i in dictionary_sample:\n",
        "    name.append(i['name'])\n",
        "    age.append(i['age'])\n",
        "    score.append(i['test_scores'])\n",
        "  \n",
        "  for i,j in enumerate(name):\n",
        "    if student_name == j:\n",
        "      index = i\n",
        "  \n",
        "  print(\"Pelajar {0} dengan umur {1} mendapatkan nilai terbesar {2}\".format(name[index], age[index], max(score[index])))\n",
        "get_max_score_by_student(array_of_dictionaries, 'Charlie')\n"
      ],
      "execution_count": 4,
      "outputs": [
        {
          "output_type": "stream",
          "text": [
            "Pelajar Charlie dengan umur 12 mendapatkan nilai terbesar 100.0\n"
          ],
          "name": "stdout"
        }
      ]
    },
    {
      "cell_type": "code",
      "metadata": {
        "id": "h8MNeZJk5JX1",
        "outputId": "f18cdad3-756e-4a97-be44-b6af1601190e",
        "colab": {
          "base_uri": "https://localhost:8080/",
          "height": 34
        }
      },
      "source": [
        "#nomor 5\n",
        "def get_all_time_max_avg_score(dictionary_list):\n",
        "  name, age, score = [], [], []\n",
        "  for i in dictionary_list:\n",
        "    name.append(i['name'])\n",
        "    age.append(i['age'])\n",
        "    score.append(round(mean(i['test_scores']),2))\n",
        "\n",
        "  maximum = max(score)\n",
        "\n",
        "  for index, element in enumerate(score):\n",
        "    if maximum == element:\n",
        "     a = index\n",
        "\n",
        "  print(\"Pelajar {0} dengan umur {1} mendapatkan nilai rata-rata terbesar, yaitu {2}\".format(name[a], age[a], score[a]))\n",
        "  return\n",
        "\n",
        "get_all_time_max_avg_score(array_of_dictionaries)\n"
      ],
      "execution_count": 5,
      "outputs": [
        {
          "output_type": "stream",
          "text": [
            "Pelajar Budi dengan umur 10 mendapatkan nilai rata-rata terbesar, yaitu 95.67\n"
          ],
          "name": "stdout"
        }
      ]
    },
    {
      "cell_type": "code",
      "metadata": {
        "id": "aJpNXlY05Lut",
        "outputId": "e9432ee9-75b5-4099-f7e7-68c20f71e391",
        "colab": {
          "base_uri": "https://localhost:8080/",
          "height": 54
        }
      },
      "source": [
        "#nomor 6\n",
        "def add_student(dictionary_list,student_dictionary):\n",
        "  dictionary_list.append(student_dictionary)\n",
        "  return dictionary_list\n",
        "\n",
        "update_dictionary = add_student(array_of_dictionaries, {\"name\": \"Doddy\", \"age\": 13, \"test_score\": [100.0, 100.0, 100.0]})\n",
        "print(update_dictionary)"
      ],
      "execution_count": 6,
      "outputs": [
        {
          "output_type": "stream",
          "text": [
            "[{'name': 'Budi', 'age': 10, 'test_scores': [100.0, 98.0, 89.0]}, {'name': 'Charlie', 'age': 12, 'test_scores': [90.0, 100.0]}, {'name': 'Doddy', 'age': 13, 'test_score': [100.0, 100.0, 100.0]}]\n"
          ],
          "name": "stdout"
        }
      ]
    }
  ]
}