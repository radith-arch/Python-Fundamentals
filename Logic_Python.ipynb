{
  "nbformat": 4,
  "nbformat_minor": 0,
  "metadata": {
    "colab": {
      "name": "Logic Python.ipynb",
      "provenance": [],
      "collapsed_sections": []
    },
    "kernelspec": {
      "name": "python3",
      "display_name": "Python 3"
    }
  },
  "cells": [
    {
      "cell_type": "markdown",
      "metadata": {
        "id": "lBmbJmSb28qW"
      },
      "source": [
        "No. 1"
      ]
    },
    {
      "cell_type": "code",
      "metadata": {
        "id": "xQtuMOW53AsW",
        "outputId": "dad10aba-745c-4830-d11b-e69d49a695b5",
        "colab": {
          "base_uri": "https://localhost:8080/",
          "height": 34
        }
      },
      "source": [
        "numbers=[]\n",
        "\n",
        "for i in range(10):\n",
        "  numbers_baru = i + 1\n",
        "  numbers.append(numbers_baru)\n",
        "\n",
        "print(numbers)"
      ],
      "execution_count": 3,
      "outputs": [
        {
          "output_type": "stream",
          "text": [
            "[1, 2, 3, 4, 5, 6, 7, 8, 9, 10]\n"
          ],
          "name": "stdout"
        }
      ]
    },
    {
      "cell_type": "code",
      "metadata": {
        "id": "30x8MtTC3EaW",
        "outputId": "fe3cb399-deee-4126-a6ef-0548c739e2b2",
        "colab": {
          "base_uri": "https://localhost:8080/",
          "height": 187
        }
      },
      "source": [
        "numbers = []\n",
        "\n",
        "for i in range(1, 11):\n",
        "  numbers.append(i)\n",
        "  print(i)"
      ],
      "execution_count": 5,
      "outputs": [
        {
          "output_type": "stream",
          "text": [
            "1\n",
            "2\n",
            "3\n",
            "4\n",
            "5\n",
            "6\n",
            "7\n",
            "8\n",
            "9\n",
            "10\n"
          ],
          "name": "stdout"
        }
      ]
    },
    {
      "cell_type": "markdown",
      "metadata": {
        "id": "n__eBC0Z3RT2"
      },
      "source": [
        "No. 2"
      ]
    },
    {
      "cell_type": "code",
      "metadata": {
        "id": "L-UCvWg53TOz",
        "outputId": "1107ef63-0d6a-4221-da34-8917ae11bc8e",
        "colab": {
          "base_uri": "https://localhost:8080/",
          "height": 34
        }
      },
      "source": [
        "numbers_plus2=[]\n",
        "for i in numbers:\n",
        "  i += 2\n",
        "  numbers_plus2.append(i)\n",
        "\n",
        "print(numbers_plus2)"
      ],
      "execution_count": 7,
      "outputs": [
        {
          "output_type": "stream",
          "text": [
            "[5, 6, 7, 8, 9, 10, 11, 12, 13, 14]\n"
          ],
          "name": "stdout"
        }
      ]
    },
    {
      "cell_type": "code",
      "metadata": {
        "id": "6LnACsc83V12",
        "outputId": "04262c48-8e66-4ff0-efae-6abf04f827c7",
        "colab": {
          "base_uri": "https://localhost:8080/",
          "height": 34
        }
      },
      "source": [
        "# cara lain\n",
        "for index, number in enumerate(numbers):\n",
        "  numbers[index] = number + 2\n",
        "numbers"
      ],
      "execution_count": 8,
      "outputs": [
        {
          "output_type": "execute_result",
          "data": {
            "text/plain": [
              "[5, 6, 7, 8, 9, 10, 11, 12, 13, 14]"
            ]
          },
          "metadata": {
            "tags": []
          },
          "execution_count": 8
        }
      ]
    },
    {
      "cell_type": "markdown",
      "metadata": {
        "id": "rvr-o7G93dcH"
      },
      "source": [
        "No. 3"
      ]
    },
    {
      "cell_type": "code",
      "metadata": {
        "id": "P32pX55I3fV0",
        "outputId": "8d5589cf-4606-4a49-8220-898d3f49df3e",
        "colab": {
          "base_uri": "https://localhost:8080/",
          "height": 34
        }
      },
      "source": [
        "for i in range(len(numbers_plus2)):\n",
        "  if numbers_plus2 [i]%2==1:\n",
        "    numbers_plus2 [i]+=1\n",
        "\n",
        "numbers_even = numbers_plus2\n",
        "print(numbers_even)"
      ],
      "execution_count": 10,
      "outputs": [
        {
          "output_type": "stream",
          "text": [
            "[6, 6, 8, 8, 10, 10, 12, 12, 14, 14]\n"
          ],
          "name": "stdout"
        }
      ]
    },
    {
      "cell_type": "code",
      "metadata": {
        "id": "d8RzkTwI3h2j",
        "outputId": "84492da4-edd2-4198-efb4-894c7beaeab7",
        "colab": {
          "base_uri": "https://localhost:8080/",
          "height": 34
        }
      },
      "source": [
        "# cara lain\n",
        "for index, number in enumerate(numbers):\n",
        "  if number % 2 != 0:\n",
        "    numbers[index] = number + 1\n",
        "numbers"
      ],
      "execution_count": 15,
      "outputs": [
        {
          "output_type": "execute_result",
          "data": {
            "text/plain": [
              "[6, 6, 8, 8, 10, 10, 12, 12, 14, 14]"
            ]
          },
          "metadata": {
            "tags": []
          },
          "execution_count": 15
        }
      ]
    },
    {
      "cell_type": "markdown",
      "metadata": {
        "id": "U4zFTHL53pCG"
      },
      "source": [
        "No. 4"
      ]
    },
    {
      "cell_type": "code",
      "metadata": {
        "id": "yTK_nwVK3p19",
        "outputId": "dfc96531-8c46-4ce6-ec07-7c45bc518b6f",
        "colab": {
          "base_uri": "https://localhost:8080/",
          "height": 34
        }
      },
      "source": [
        "n=0\n",
        "numbers_even.sort()\n",
        "for i in numbers_even:\n",
        "  if i < 5:\n",
        "    n += 1\n",
        "\n",
        "numbers_than5=numbers_even[n:]\n",
        "print(numbers_than5)"
      ],
      "execution_count": 13,
      "outputs": [
        {
          "output_type": "stream",
          "text": [
            "[6, 6, 8, 8, 10, 10, 12, 12, 14, 14]\n"
          ],
          "name": "stdout"
        }
      ]
    },
    {
      "cell_type": "code",
      "metadata": {
        "id": "cW9VQC7X3rat",
        "outputId": "56165d68-f887-4d92-dd63-cde2b2b1cb6a",
        "colab": {
          "base_uri": "https://localhost:8080/",
          "height": 34
        }
      },
      "source": [
        "# cara dari pengajar\n",
        "numbers = [number for number in numbers if number >= 5]\n",
        "numbers"
      ],
      "execution_count": 18,
      "outputs": [
        {
          "output_type": "execute_result",
          "data": {
            "text/plain": [
              "[6, 6, 8, 8, 10, 10, 12, 12, 14, 14]"
            ]
          },
          "metadata": {
            "tags": []
          },
          "execution_count": 18
        }
      ]
    },
    {
      "cell_type": "markdown",
      "metadata": {
        "id": "_uV4TYAO4Ctv"
      },
      "source": [
        "No. 5"
      ]
    },
    {
      "cell_type": "code",
      "metadata": {
        "id": "0xdoaoqA4Agd",
        "outputId": "dcd09e06-ed08-4ce4-f426-e415a02f67b8",
        "colab": {
          "base_uri": "https://localhost:8080/",
          "height": 187
        }
      },
      "source": [
        "for index, number in enumerate(numbers):\n",
        "  print(\"Angka ke-\" + str(index) + \" bernilai \" + str(number))"
      ],
      "execution_count": 19,
      "outputs": [
        {
          "output_type": "stream",
          "text": [
            "Angka ke-0 bernilai 6\n",
            "Angka ke-1 bernilai 6\n",
            "Angka ke-2 bernilai 8\n",
            "Angka ke-3 bernilai 8\n",
            "Angka ke-4 bernilai 10\n",
            "Angka ke-5 bernilai 10\n",
            "Angka ke-6 bernilai 12\n",
            "Angka ke-7 bernilai 12\n",
            "Angka ke-8 bernilai 14\n",
            "Angka ke-9 bernilai 14\n"
          ],
          "name": "stdout"
        }
      ]
    },
    {
      "cell_type": "markdown",
      "metadata": {
        "id": "Otndsxjl4K7l"
      },
      "source": [
        "No. 6"
      ]
    },
    {
      "cell_type": "code",
      "metadata": {
        "id": "ad0nfWi94Lw2",
        "outputId": "64c1d2e0-1ee0-42ae-bda9-31600bd0971a",
        "colab": {
          "base_uri": "https://localhost:8080/",
          "height": 187
        }
      },
      "source": [
        "numbers_even2 = [element for element in numbers_than5 if element % 2 == 0]\n",
        "for index, element in enumerate(numbers_even2):\n",
        "  print(\"Angka ke-\" + str(index) + \" bernilai \" + str(element))"
      ],
      "execution_count": 20,
      "outputs": [
        {
          "output_type": "stream",
          "text": [
            "Angka ke-0 bernilai 6\n",
            "Angka ke-1 bernilai 6\n",
            "Angka ke-2 bernilai 8\n",
            "Angka ke-3 bernilai 8\n",
            "Angka ke-4 bernilai 10\n",
            "Angka ke-5 bernilai 10\n",
            "Angka ke-6 bernilai 12\n",
            "Angka ke-7 bernilai 12\n",
            "Angka ke-8 bernilai 14\n",
            "Angka ke-9 bernilai 14\n"
          ],
          "name": "stdout"
        }
      ]
    },
    {
      "cell_type": "code",
      "metadata": {
        "id": "trQVNw7x4OGt",
        "outputId": "7310716e-4c68-4b6c-ec05-dc5c5efe4e66",
        "colab": {
          "base_uri": "https://localhost:8080/",
          "height": 187
        }
      },
      "source": [
        "# cara lain\n",
        "for index, number in enumerate(numbers):\n",
        "  print(\"Angka ke-\" + str(index) + \" bernilai \" + str(number))"
      ],
      "execution_count": 21,
      "outputs": [
        {
          "output_type": "stream",
          "text": [
            "Angka ke-0 bernilai 6\n",
            "Angka ke-1 bernilai 6\n",
            "Angka ke-2 bernilai 8\n",
            "Angka ke-3 bernilai 8\n",
            "Angka ke-4 bernilai 10\n",
            "Angka ke-5 bernilai 10\n",
            "Angka ke-6 bernilai 12\n",
            "Angka ke-7 bernilai 12\n",
            "Angka ke-8 bernilai 14\n",
            "Angka ke-9 bernilai 14\n"
          ],
          "name": "stdout"
        }
      ]
    }
  ]
}